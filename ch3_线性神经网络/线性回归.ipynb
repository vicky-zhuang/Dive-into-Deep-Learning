{
 "cells": [
  {
   "cell_type": "code",
   "execution_count": 122,
   "metadata": {},
   "outputs": [],
   "source": [
    "import os\n",
    "os.environ['KMP_DUPLICATE_LIB_OK']='True'\n",
    "\n",
    "import torch\n",
    "import random\n",
    "import matplotlib.pyplot as plt"
   ]
  },
  {
   "attachments": {},
   "cell_type": "markdown",
   "metadata": {},
   "source": [
    "## 线性回归的从零开始实现"
   ]
  },
  {
   "attachments": {},
   "cell_type": "markdown",
   "metadata": {},
   "source": [
    "### 1、生成数据集"
   ]
  },
  {
   "cell_type": "code",
   "execution_count": 123,
   "metadata": {},
   "outputs": [],
   "source": [
    "def synthetic_data(w, b, num_examples):\n",
    "    x = torch.normal(0,1,(num_examples,2))\n",
    "    y = torch.matmul(x,w)+b\n",
    "    y += torch.normal(0,0.01,y.shape) # 保证相加的时候维度不会变化\n",
    "    return x,y.reshape(-1,1)"
   ]
  },
  {
   "cell_type": "code",
   "execution_count": 124,
   "metadata": {},
   "outputs": [
    {
     "name": "stdout",
     "output_type": "stream",
     "text": [
      "features.shape:\ttorch.Size([1000, 2])\n",
      "labels.shape:\ttorch.Size([1000, 1])\n",
      "features[0]:\ttensor([0.1084, 0.3534])\n",
      "labels[0]:\ttensor([3.2099])\n"
     ]
    }
   ],
   "source": [
    "true_w = torch.tensor([2,-3.4])\n",
    "true_b = 4.2\n",
    "features,labels = synthetic_data(true_w,true_b,1000)\n",
    "print(f'features.shape:\\t{features.shape}')\n",
    "print(f'labels.shape:\\t{labels.shape}')\n",
    "print(f'features[0]:\\t{features[0]}')\n",
    "print(f'labels[0]:\\t{labels[0]}')"
   ]
  },
  {
   "cell_type": "code",
   "execution_count": 125,
   "metadata": {},
   "outputs": [
    {
     "data": {
      "image/png": "[encoded data removed]",
      "text/plain": [
       "<Figure size 500x400 with 1 Axes>"
      ]
     },
     "metadata": {
      "needs_background": "light"
     },
     "output_type": "display_data"
    }
   ],
   "source": [
    "plt.figure(figsize=(10,8),dpi=50)\n",
    "plt.scatter(features[:,1].detach().numpy(),labels.detach().numpy(),1)\n",
    "plt.show()"
   ]
  },
  {
   "attachments": {},
   "cell_type": "markdown",
   "metadata": {},
   "source": [
    "### 2、读取数据集"
   ]
  },
  {
   "cell_type": "code",
   "execution_count": 126,
   "metadata": {},
   "outputs": [],
   "source": [
    "# 定义data_iter函数，该函数接受不了批量大小、特征矩阵和标签向量作为输入，生成大小为batch_size的小批量，每个小批量包含一组特征和标签\n",
    "def data_iter(batch_size,features,labels):\n",
    "    num_example = len(features)\n",
    "    indices = list(range(num_example))\n",
    "    random.shuffle(indices)\n",
    "    for i in range(0,num_example,batch_size):\n",
    "        batch_indices = indices[i:min(num_example,i+batch_size)]\n",
    "        yield features[batch_indices],labels[batch_indices]"
   ]
  },
  {
   "cell_type": "code",
   "execution_count": 127,
   "metadata": {},
   "outputs": [
    {
     "name": "stdout",
     "output_type": "stream",
     "text": [
      "tensor([[-0.7832,  0.5526],\n",
      "        [-0.0069, -1.9208],\n",
      "        [ 0.5610, -0.7585],\n",
      "        [ 0.4656, -1.0934],\n",
      "        [-0.5263,  1.0028],\n",
      "        [ 0.8885,  0.3069],\n",
      "        [-1.0490,  1.6692],\n",
      "        [-1.6016, -0.6124],\n",
      "        [ 1.4557,  1.6659],\n",
      "        [ 0.7772, -0.1044]]) \n",
      " tensor([[ 0.7684],\n",
      "        [10.7331],\n",
      "        [ 7.9024],\n",
      "        [ 8.8449],\n",
      "        [-0.2791],\n",
      "        [ 4.9365],\n",
      "        [-3.5657],\n",
      "        [ 3.0666],\n",
      "        [ 1.4339],\n",
      "        [ 6.1161]])\n"
     ]
    }
   ],
   "source": [
    "batch_size=10\n",
    "for x,y in data_iter(batch_size,features,labels):\n",
    "    print(x,'\\n',y)\n",
    "    break"
   ]
  },
  {
   "attachments": {},
   "cell_type": "markdown",
   "metadata": {},
   "source": [
    "### 3、初始化模型参数"
   ]
  },
  {
   "cell_type": "code",
   "execution_count": 128,
   "metadata": {},
   "outputs": [],
   "source": [
    "w = torch.normal(0,1,size=(2,1),requires_grad=True)\n",
    "b = torch.zeros(1,requires_grad=True)"
   ]
  },
  {
   "attachments": {},
   "cell_type": "markdown",
   "metadata": {},
   "source": [
    "### 4、定义模型"
   ]
  },
  {
   "cell_type": "code",
   "execution_count": 129,
   "metadata": {},
   "outputs": [],
   "source": [
    "def linreg(x,w,b):\n",
    "    return torch.matmul(x,w)+b"
   ]
  },
  {
   "attachments": {},
   "cell_type": "markdown",
   "metadata": {},
   "source": [
    "### 5、定义损失函数"
   ]
  },
  {
   "cell_type": "code",
   "execution_count": 130,
   "metadata": {},
   "outputs": [],
   "source": [
    "def squard_loss(y_hat,y):\n",
    "    return (y_hat-y.reshape(y_hat.shape))**2/2"
   ]
  },
  {
   "attachments": {},
   "cell_type": "markdown",
   "metadata": {},
   "source": [
    "### 6、定义优化算法"
   ]
  },
  {
   "cell_type": "code",
   "execution_count": 131,
   "metadata": {},
   "outputs": [],
   "source": [
    "def sgd(params,lr,batch_size):\n",
    "    with torch.no_grad(): # 不用反向跟踪记录梯度\n",
    "        for param in params:\n",
    "            param -= lr * param.grad / batch_size # 参数更新\n",
    "            param.grad.zero_() # 参数梯度归零"
   ]
  },
  {
   "attachments": {},
   "cell_type": "markdown",
   "metadata": {},
   "source": [
    "### 7、训练"
   ]
  },
  {
   "cell_type": "code",
   "execution_count": 132,
   "metadata": {},
   "outputs": [],
   "source": [
    "lr = 0.03\n",
    "num_epochs = 3\n",
    "batch_size = 16\n",
    "net = linreg\n",
    "loss = squard_loss"
   ]
  },
  {
   "cell_type": "code",
   "execution_count": 133,
   "metadata": {},
   "outputs": [
    {
     "name": "stdout",
     "output_type": "stream",
     "text": [
      "train_loss:0.4485\n",
      "train_loss:0.0129\n",
      "train_loss:0.0004\n"
     ]
    }
   ],
   "source": [
    "for epoch in range(num_epochs):\n",
    "    for x,y in data_iter(batch_size,features,labels):\n",
    "        y_hat = net(x, w, b) # 前向传播\n",
    "        losses = loss(y_hat, y) # 计算损失函数\n",
    "        losses.sum().backward() # 反向传播\n",
    "        sgd([w, b], lr, batch_size) # 参数更新\n",
    "\n",
    "    with torch.no_grad():\n",
    "        train_loss = loss(net(features,w,b),labels).mean()\n",
    "        print(f'train_loss:{train_loss:.4f}')\n"
   ]
  },
  {
   "cell_type": "code",
   "execution_count": 134,
   "metadata": {},
   "outputs": [
    {
     "name": "stdout",
     "output_type": "stream",
     "text": [
      "w的估计误差:tensor([[ 0.0112, -5.3888],\n",
      "        [ 5.3840, -0.0160]], grad_fn=<SubBackward0>)\n",
      "b的估计误差:tensor([0.0187], grad_fn=<RsubBackward1>)\n"
     ]
    }
   ],
   "source": [
    "print(f'w的估计误差:{true_w-w}')\n",
    "print(f'b的估计误差:{true_b-b}')"
   ]
  },
  {
   "attachments": {},
   "cell_type": "markdown",
   "metadata": {},
   "source": [
    "## 线性回归的简洁实现"
   ]
  },
  {
   "cell_type": "code",
   "execution_count": 135,
   "metadata": {},
   "outputs": [],
   "source": [
    "import numpy as np\n",
    "import torch\n",
    "from torch.utils import data\n",
    "from torch import nn"
   ]
  },
  {
   "attachments": {},
   "cell_type": "markdown",
   "metadata": {},
   "source": [
    "### 1、生成数据集"
   ]
  },
  {
   "cell_type": "code",
   "execution_count": 136,
   "metadata": {},
   "outputs": [],
   "source": [
    "true_w = torch.tensor([2,-3.4])\n",
    "true_b = 4.2\n",
    "features,labels = synthetic_data(true_w,true_b,1000)"
   ]
  },
  {
   "attachments": {},
   "cell_type": "markdown",
   "metadata": {},
   "source": [
    "### 2、读取数据集"
   ]
  },
  {
   "cell_type": "code",
   "execution_count": 137,
   "metadata": {},
   "outputs": [],
   "source": [
    "def load_array(data_arrays,batch_size,is_train=True):\n",
    "    dataset = data.TensorDataset(*data_arrays) # data_arrays是元祖需要解包\n",
    "    dataloader = data.DataLoader(dataset,batch_size,shuffle=is_train)\n",
    "    return dataloader"
   ]
  },
  {
   "cell_type": "code",
   "execution_count": 138,
   "metadata": {},
   "outputs": [],
   "source": [
    "batch_size = 10\n",
    "data_iter = load_array((features,labels),batch_size)"
   ]
  },
  {
   "cell_type": "code",
   "execution_count": 139,
   "metadata": {},
   "outputs": [
    {
     "data": {
      "text/plain": [
       "[tensor([[-0.3113, -0.2841],\n",
       "         [-0.6730,  0.4201],\n",
       "         [-0.6661, -0.0830],\n",
       "         [-0.3867,  1.3824],\n",
       "         [-0.0379, -0.7079],\n",
       "         [ 0.4328,  0.6350],\n",
       "         [ 1.4333,  0.5242],\n",
       "         [ 1.0616,  0.1431],\n",
       "         [ 1.9427, -0.7971],\n",
       "         [-0.9898, -1.8904]]),\n",
       " tensor([[ 4.5402],\n",
       "         [ 1.4148],\n",
       "         [ 3.1637],\n",
       "         [-1.2577],\n",
       "         [ 6.5270],\n",
       "         [ 2.9033],\n",
       "         [ 5.2678],\n",
       "         [ 5.8361],\n",
       "         [10.8121],\n",
       "         [ 8.6550]])]"
      ]
     },
     "execution_count": 139,
     "metadata": {},
     "output_type": "execute_result"
    }
   ],
   "source": [
    "next(iter(data_iter))"
   ]
  },
  {
   "attachments": {},
   "cell_type": "markdown",
   "metadata": {},
   "source": [
    "### 3、定义模型"
   ]
  },
  {
   "cell_type": "code",
   "execution_count": 140,
   "metadata": {},
   "outputs": [],
   "source": [
    "net = nn.Sequential(nn.Linear(2,1))"
   ]
  },
  {
   "attachments": {},
   "cell_type": "markdown",
   "metadata": {},
   "source": [
    "### 4、初始化模型参数"
   ]
  },
  {
   "cell_type": "code",
   "execution_count": 141,
   "metadata": {},
   "outputs": [
    {
     "data": {
      "text/plain": [
       "tensor([0.])"
      ]
     },
     "execution_count": 141,
     "metadata": {},
     "output_type": "execute_result"
    }
   ],
   "source": [
    "net[0].weight.data.normal_(0,0.01)\n",
    "net[0].bias.data.fill_(0)"
   ]
  },
  {
   "attachments": {},
   "cell_type": "markdown",
   "metadata": {},
   "source": [
    "### 5、定义损失函数"
   ]
  },
  {
   "cell_type": "code",
   "execution_count": 142,
   "metadata": {},
   "outputs": [],
   "source": [
    "loss = nn.MSELoss()"
   ]
  },
  {
   "attachments": {},
   "cell_type": "markdown",
   "metadata": {},
   "source": [
    "### 6、定义优化算法"
   ]
  },
  {
   "cell_type": "code",
   "execution_count": 143,
   "metadata": {},
   "outputs": [],
   "source": [
    "trainer = torch.optim.SGD(net.parameters(),lr=0.03)"
   ]
  },
  {
   "attachments": {},
   "cell_type": "markdown",
   "metadata": {},
   "source": [
    "### 7、训练"
   ]
  },
  {
   "cell_type": "code",
   "execution_count": 144,
   "metadata": {},
   "outputs": [
    {
     "name": "stdout",
     "output_type": "stream",
     "text": [
      "epoch 1, loss 0.000264\n",
      "epoch 2, loss 0.000099\n",
      "epoch 3, loss 0.000099\n"
     ]
    }
   ],
   "source": [
    "num_epochs = 3\n",
    "for epoch in range(num_epochs):\n",
    "    for x,y in data_iter:\n",
    "        y_hat = net(x) # 前向传播\n",
    "        l = loss(y,y_hat) # 计算损失\n",
    "        trainer.zero_grad() # 清空梯度\n",
    "        l.backward() # 反向传播\n",
    "        trainer.step() # 更新参数\n",
    "    l = loss(net(features),labels)\n",
    "    print(f'epoch {epoch+1}, loss {l:f}')"
   ]
  },
  {
   "cell_type": "code",
   "execution_count": 145,
   "metadata": {},
   "outputs": [
    {
     "name": "stdout",
     "output_type": "stream",
     "text": [
      "w的估计误差:\ttensor([-6.1750e-05,  3.2306e-04])\n",
      "b的估计误差:\ttensor([-0.0001])\n"
     ]
    }
   ],
   "source": [
    "w = net[0].weight.data\n",
    "b = net[0].bias.data\n",
    "print(f'w的估计误差:\\t{true_w - w.reshape(true_w.shape)}')\n",
    "print(f'b的估计误差:\\t{true_b-b}')"
   ]
  }
 ],
 "metadata": {
  "kernelspec": {
   "display_name": "base",
   "language": "python",
   "name": "python3"
  },
  "language_info": {
   "codemirror_mode": {
    "name": "ipython",
    "version": 3
   },
   "file_extension": ".py",
   "mimetype": "text/x-python",
   "name": "python",
   "nbconvert_exporter": "python",
   "pygments_lexer": "ipython3",
   "version": "3.9.12"
  },
  "orig_nbformat": 4
 },
 "nbformat": 4,
 "nbformat_minor": 2
}
